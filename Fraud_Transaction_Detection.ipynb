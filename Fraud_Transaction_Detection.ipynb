{
  "nbformat": 4,
  "nbformat_minor": 0,
  "metadata": {
    "colab": {
      "provenance": [],
      "authorship_tag": "ABX9TyOOoMaZ+m6qhGxapVzEsy+H",
      "include_colab_link": true
    },
    "kernelspec": {
      "name": "python3",
      "display_name": "Python 3"
    },
    "language_info": {
      "name": "python"
    }
  },
  "cells": [
    {
      "cell_type": "markdown",
      "metadata": {
        "id": "view-in-github",
        "colab_type": "text"
      },
      "source": [
        "<a href=\"https://colab.research.google.com/github/kusumakodamanchili/Fraud_Transaction_Detection/blob/main/Fraud_Transaction_Detection.ipynb\" target=\"_parent\"><img src=\"https://colab.research.google.com/assets/colab-badge.svg\" alt=\"Open In Colab\"/></a>"
      ]
    },
    {
      "cell_type": "code",
      "execution_count": null,
      "metadata": {
        "id": "MM3RQEROv7dp"
      },
      "outputs": [],
      "source": [
        "\n",
        "!pip install xgboost\n",
        "!pip install imbalanced-learn\n",
        "import pandas as pd\n",
        "import numpy as np\n",
        "import matplotlib.pyplot as plt\n",
        "import seaborn as sns\n",
        "from sklearn.model_selection import train_test_split, GridSearchCV, StratifiedKFold\n",
        "from sklearn.preprocessing import StandardScaler\n",
        "from sklearn.metrics import classification_report, confusion_matrix, roc_auc_score\n",
        "from xgboost import XGBClassifier\n",
        "from imblearn.over_sampling import SMOTE\n",
        "import warnings\n",
        "\n",
        "# Ignore warnings\n",
        "warnings.filterwarnings('ignore')\n"
      ]
    },
    {
      "cell_type": "code",
      "source": [
        "try:\n",
        "    df = pd.read_csv('Fraud.csv', sep=',')\n",
        "except ParserError:\n",
        "    try:\n",
        "        df = pd.read_csv('Fraud.csv', sep=';')\n",
        "    except ParserError:\n",
        "        try:\n",
        "            df = pd.read_csv('Fraud.csv', engine='python')\n",
        "        except Exception as e:\n",
        "            print(f\"Could not read the CSV file: {e}\")\n",
        "df.head()"
      ],
      "metadata": {
        "id": "m4jtDSn5wJ9E"
      },
      "execution_count": null,
      "outputs": []
    },
    {
      "cell_type": "code",
      "source": [
        "df.columns"
      ],
      "metadata": {
        "id": "MBRPhdWLwMRb"
      },
      "execution_count": null,
      "outputs": []
    },
    {
      "cell_type": "code",
      "source": [
        "df.head()"
      ],
      "metadata": {
        "id": "4wzifZWjwO3m"
      },
      "execution_count": null,
      "outputs": []
    },
    {
      "cell_type": "code",
      "source": [
        "df.tail()"
      ],
      "metadata": {
        "id": "WDZYlfdtwS45"
      },
      "execution_count": null,
      "outputs": []
    },
    {
      "cell_type": "code",
      "source": [
        "df.info()"
      ],
      "metadata": {
        "id": "ol0LmCJ-wTE6"
      },
      "execution_count": null,
      "outputs": []
    },
    {
      "cell_type": "code",
      "source": [
        "print(df.isnull().sum())\n",
        "df = df.dropna()"
      ],
      "metadata": {
        "id": "BX3AgotkwXPi"
      },
      "execution_count": null,
      "outputs": []
    },
    {
      "cell_type": "code",
      "source": [
        "df.duplicated().sum()"
      ],
      "metadata": {
        "id": "wWths0ELwZXz"
      },
      "execution_count": null,
      "outputs": []
    },
    {
      "cell_type": "code",
      "source": [
        "f = df.dropna()\n",
        "print(\"After dropping missing values:\", df.shape)"
      ],
      "metadata": {
        "id": "ABrW5FW9wbOi"
      },
      "execution_count": null,
      "outputs": []
    },
    {
      "cell_type": "code",
      "source": [
        "sns.countplot(x='isFraud', data=df)\n",
        "plt.title('Fraud vs Non-Fraud Distribution')\n",
        "plt.show()"
      ],
      "metadata": {
        "id": "Ip9SoihPwdkx"
      },
      "execution_count": null,
      "outputs": []
    },
    {
      "cell_type": "code",
      "source": [
        "# Step 5 (Fixed): Correlation matrix with only numeric columns\n",
        "numeric_df = df.select_dtypes(include=[np.number])\n",
        "\n",
        "plt.figure(figsize=(10, 8))\n",
        "sns.heatmap(numeric_df.corr(), annot=True, cmap=\"coolwarm\")\n",
        "plt.title(\"Correlation Matrix (Numeric Features Only)\")\n",
        "plt.show()"
      ],
      "metadata": {
        "id": "Twx2SaQpwrj4"
      },
      "execution_count": null,
      "outputs": []
    },
    {
      "cell_type": "code",
      "source": [
        "if 'nameOrig' in df.columns: df.drop(['nameOrig', 'nameDest'], axis=1, inplace=True)\n",
        "if 'step' in df.columns: df.drop(['step'], axis=1, inplace=True)"
      ],
      "metadata": {
        "id": "n5hBf6e7wtyj"
      },
      "execution_count": null,
      "outputs": []
    },
    {
      "cell_type": "code",
      "source": [
        "\n",
        "X = df.drop('isFraud', axis=1)\n",
        "y = df['isFraud']\n"
      ],
      "metadata": {
        "id": "X64ohtLbwvra"
      },
      "execution_count": null,
      "outputs": []
    },
    {
      "cell_type": "code",
      "source": [
        "X_train, X_test, y_train, y_test = train_test_split(X, y, test_size=0.2, stratify=y, random_state=42)\n"
      ],
      "metadata": {
        "id": "sogH8Sg6wxZ1"
      },
      "execution_count": null,
      "outputs": []
    },
    {
      "cell_type": "code",
      "source": [
        "\n",
        "df_encoded = pd.get_dummies(df, drop_first=True)\n",
        "\n",
        "X = df_encoded.drop('isFraud', axis=1)\n",
        "y = df_encoded['isFraud']\n",
        ""
      ],
      "metadata": {
        "id": "kyPFWYC6wzn8"
      },
      "execution_count": null,
      "outputs": []
    },
    {
      "cell_type": "code",
      "source": [
        "\n",
        "df_encoded = pd.get_dummies(df, drop_first=True)\n",
        "X = df_encoded.drop('isFraud', axis=1)\n",
        "y = df_encoded['isFraud']\n",
        "from sklearn.model_selection import train_test_split\n",
        "X_train, X_test, y_train, y_test = train_test_split(X, y, test_size=0.2, stratify=y, random_state=42)\n",
        "from imblearn.over_sampling import SMOTE\n",
        "sm = SMOTE(random_state=42)\n",
        "X_train_res, y_train_res = sm.fit_resample(X_train, y_train)\n",
        "from sklearn.preprocessing import StandardScaler\n",
        "scaler = StandardScaler()\n",
        "X_train_scaled = scaler.fit_transform(X_train_res)\n",
        "X_test_scaled = scaler.transform(X_test)\n"
      ],
      "metadata": {
        "id": "SGmZw8uAw22R"
      },
      "execution_count": null,
      "outputs": []
    },
    {
      "cell_type": "code",
      "source": [
        "\n",
        "from sklearn.ensemble import RandomForestClassifier\n",
        "model = RandomForestClassifier(n_estimators=100, random_state=42, class_weight='balanced')\n",
        "model.fit(X_train_scaled, y_train_res)\n",
        "\n",
        "y_pred = model.predict(X_test_scaled)\n",
        "\n",
        "from sklearn.metrics import classification_report, confusion_matrix, roc_auc_score\n",
        "\n",
        "print(\"Confusion Matrix:\\n\", confusion_matrix(y_test, y_pred))\n",
        "print(\"\\nClassification Report:\\n\", classification_report(y_test, y_pred))\n",
        "print(\"ROC-AUC Score:\", roc_auc_score(y_test, model.predict_proba(X_test_scaled)[:, 1]))\n"
      ],
      "metadata": {
        "id": "Tk8Y6SpWw5AT"
      },
      "execution_count": null,
      "outputs": []
    },
    {
      "cell_type": "code",
      "source": [
        "import shap\n",
        "\n",
        "# Use TreeExplainer for tree-based models like RandomForest\n",
        "explainer = shap.Explainer(model, X_train_scaled)\n",
        "\n",
        "# Compute SHAP values for a small batch of test samples\n",
        "shap_values = explainer(X_test_scaled[:100])\n",
        "\n",
        "# Display summary plot (with feature names)\n",
        "shap.summary_plot(shap_values, features=X_test_scaled[:100], feature_names=X.columns)\n"
      ],
      "metadata": {
        "id": "WlITtZLKw8da"
      },
      "execution_count": null,
      "outputs": []
    },
    {
      "cell_type": "code",
      "source": [
        "feat_importances = pd.Series(model.feature_importances_, index=X.columns)\n",
        "feat_importances.nlargest(10).plot(kind='barh')\n",
        "plt.title(\"Top 10 Important Features\")\n",
        "plt.show()"
      ],
      "metadata": {
        "id": "bwk7lQQBw-ap"
      },
      "execution_count": null,
      "outputs": []
    }
  ]
}